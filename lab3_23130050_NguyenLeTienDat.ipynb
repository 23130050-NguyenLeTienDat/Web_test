{
  "nbformat": 4,
  "nbformat_minor": 0,
  "metadata": {
    "colab": {
      "provenance": [],
      "authorship_tag": "ABX9TyNcdQGniymDL4MdKx//FfKD",
      "include_colab_link": true
    },
    "kernelspec": {
      "name": "python3",
      "display_name": "Python 3"
    },
    "language_info": {
      "name": "python"
    }
  },
  "cells": [
    {
      "cell_type": "markdown",
      "metadata": {
        "id": "view-in-github",
        "colab_type": "text"
      },
      "source": [
        "<a href=\"https://colab.research.google.com/github/23130050-NguyenLeTienDat/Web_test/blob/py/lab3_23130050_NguyenLeTienDat.ipynb\" target=\"_parent\"><img src=\"https://colab.research.google.com/assets/colab-badge.svg\" alt=\"Open In Colab\"/></a>"
      ]
    },
    {
      "cell_type": "markdown",
      "source": [
        "task 1"
      ],
      "metadata": {
        "id": "ZY6eSH-KPxTK"
      }
    },
    {
      "cell_type": "code",
      "execution_count": 44,
      "metadata": {
        "id": "14TNoviP_aqh"
      },
      "outputs": [],
      "source": [
        "class Point():\n",
        "  def __init__(self, x ,y):\n",
        "    self._x = x\n",
        "    self._y= y\n",
        "  def __str__(self):\n",
        "    return f\"({self.x},{self.y})\"\n",
        "  def __add__(self, other):\n",
        "    return Point(self.x + other.x, self.y + other.y)\n",
        "  def __sub__(self, other):\n",
        "    return Point(self.x - other.x, self.y - other.y)\n",
        "  def __mul__(self, other):\n",
        "    return Point(self.x * other.x, self.y * other.y)\n",
        "  def __truediv__(self, other):\n",
        "    return Point(self.x / other.x, self.y / other.y)\n",
        "  def __mod__(self, other):\n",
        "    return Point(self.x % other.x, self.y % other.y)\n",
        "  def __lt__(self, other):\n",
        "    return self.x < other.x and self.y < other.y\n",
        "  def __le__(self, other):\n",
        "    return self.x <= other.x and self.y <= other.y\n",
        "  def __gt__(self, other):\n",
        "    return self.x > other.x and self.y > other.y\n",
        "  def __ge__(self, other):\n",
        "    return self.x >= other.x and self.y >= other.y\n",
        "  def __eq__(self, other):\n",
        "    return self.x == other.x and self.y == other.y\n",
        "  def __distanceToO__(self):\n",
        "    return math.sqrt(self.x ** 2 + self.y ** 2)\n",
        "\n",
        "from abc import ABC, abstractmethod\n",
        "import math\n",
        "class Shape(ABC):\n",
        "  def __init__(self, point):\n",
        "    self._point = point\n",
        "  def _area_(self):\n",
        "    pass\n",
        "  def _perimeter_(self):\n",
        "    pass\n",
        "  def _get_point_(self):\n",
        "    return self._point\n",
        "  def _set_point_(self, point):\n",
        "    self._point = point\n",
        "  def _inside_(self):\n",
        "    pass\n",
        "\n",
        "\n",
        "\n",
        "class Circle(Shape):\n",
        "  def __init__(self, point, radius):\n",
        "    super().__init__(point)\n",
        "    self._radius = radius\n",
        "  def __str__(self) -> str:\n",
        "    return f\"({self._radius})\"\n",
        "  def area(self):\n",
        "    return math.pi * self._radius ** 2\n",
        "  def perimeter(self):\n",
        "    return 2 * math.pi * self._radius\n",
        "  def __lt__(self, other):\n",
        "    return self._radius < other._radius\n",
        "  def __le__(self, other):\n",
        "    return self._radius <= other._radius\n",
        "  def __gt__(self, other):\n",
        "    return self._radius > other._radius\n",
        "  def __ge__(self, other):\n",
        "    return self._radius >= other._radius\n",
        "  def __eq__(self, other):\n",
        "    return self._radius == other._radius\n",
        "  def inside(self, point):\n",
        "    return math.sqrt((point.x - self._point.x) ** 2 + (point.y - self._point.y) ** 2)\n",
        "\n",
        "\n",
        "\n",
        "class Rectangle(Shape):\n",
        "  def __init__(self, point, w, h):\n",
        "    super().__init__(point)\n",
        "    self.w = w\n",
        "    self.h = h\n",
        "  def __str__(self) -> str:\n",
        "    return f\"({self.w},{self.h})\"\n",
        "  def area(self):\n",
        "    return self.w * self.h\n",
        "  def perimeter(self):\n",
        "    return 2 * (self.w + self.h)\n",
        "  def __lt__(self, other):\n",
        "    return self.area() < other.area()\n",
        "  def __le__(self, other):\n",
        "    return self.area() <= self.area()\n",
        "  def __gt__(self, other):\n",
        "    return self.area() > other.area()\n",
        "  def __ge__(self, other):\n",
        "    return self.area() >= other.area()\n",
        "  def __eq__(self, other):\n",
        "    return self.area() == other.area()\n",
        "  def inside(self, point):\n",
        "    return (point.x >= self._point.x and point.x <= self._point.x + self.w) and (point.y >= self._point.y and point.y <= self._point.y + self.h)\n",
        "\n",
        "\n",
        "\n",
        "\n",
        "class Square(Shape):\n",
        "  def __init__(self, point, side):\n",
        "    super().__init__(point)\n",
        "    self.side = side\n",
        "  def __str__(self) -> str:\n",
        "    return f\"({self.side})\"\n",
        "  def area(self):\n",
        "    return self.side ** 2\n",
        "  def perimeter(self):\n",
        "    return 4 * self.side\n",
        "  def __lt__(self, other):\n",
        "    return self.area() < other.area()\n",
        "  def __le__(self, other):\n",
        "    return self.area() <= self.area()\n",
        "  def __gt__(self, other):\n",
        "    return self.area() > other.area()\n",
        "  def __ge__(self, other):\n",
        "    return self.area() >= other.area()\n",
        "  def __eq__(self, other):\n",
        "    return self.area() == other.area()\n",
        "  def inside(self, point):\n",
        "    return (point.x >= self._point.x and point.x <= self._point.x + self.side) and (point.y >= self._point.y and point.y <= self._point.y + self.side)\n",
        "\n",
        "\n"
      ]
    },
    {
      "cell_type": "code",
      "source": [
        "p1 = Point(3,4)\n",
        "p2 = Point(5,2)\n",
        "\n",
        "print(p1.__add__(p2))\n",
        "print(p1.__sub__(p2))\n",
        "print(p1.__mul__(p2))\n",
        "print(p1.__truediv__(p2))\n",
        "print(p1.__mod__(p2))\n",
        "print(p1.__lt__(p2))\n",
        "print(p1.__le__(p2))\n",
        "print(p1.__gt__(p2))\n",
        "print(p1.__ge__(p2))\n",
        "print(p1.__eq__(p2))\n",
        "print(p1.__distanceToO__())\n",
        "print(\"-------------------------------------------------------------------------------------------------------------\")\n",
        "\n",
        "r1 = Rectangle(p1, 2, 3)\n",
        "r2 = Rectangle(p2, 4, 5)\n",
        "print(\"dien tich r1: \",r1.area())\n",
        "print(\"dien tich r2:\",r2.area())\n",
        "print(\"chu vi r1: \",r1.perimeter())\n",
        "print(\"r1 nho hon r2 ? \",r1.__lt__(r2))\n",
        "print(\"r1 nho hon hoac bang r2 ? \",r1.__le__(r2))\n",
        "print(\"r1 lon hon r2 ? \",r1.__gt__(r2))\n",
        "print(\"r1 nho hon hoac bang r2 ? \",r1.__ge__(r2))\n",
        "print(\"r1 bang r2 ? \",r1.__eq__(r2))\n",
        "\n",
        "\n",
        "\n",
        "\n"
      ],
      "metadata": {
        "colab": {
          "base_uri": "https://localhost:8080/"
        },
        "id": "Fjqz8D3gIAnU",
        "outputId": "ae8838d2-c8f5-4718-fe78-cacc71c8784e"
      },
      "execution_count": 42,
      "outputs": [
        {
          "output_type": "stream",
          "name": "stdout",
          "text": [
            "(8,6)\n",
            "(-2,2)\n",
            "(15,8)\n",
            "(0.6,2.0)\n",
            "(3,0)\n",
            "False\n",
            "False\n",
            "False\n",
            "False\n",
            "False\n",
            "5.0\n",
            "-------------------------------------------------------------------------------------------------------------\n",
            "dien tich r1:  6\n",
            "dien tich r2: 20\n",
            "chu vi r1:  10\n",
            "True\n",
            "True\n",
            "False\n",
            "False\n",
            "False\n"
          ]
        }
      ]
    },
    {
      "cell_type": "markdown",
      "source": [
        "task 2"
      ],
      "metadata": {
        "id": "tCrAo9BbP4Wz"
      }
    },
    {
      "cell_type": "code",
      "source": [
        "class Employee():\n",
        "    def __init__(self,name,birthYear,salary,gender):\n",
        "        self._name=name\n",
        "        self._birthYear=age\n",
        "        self._salary=salary\n",
        "        self._gender=gender\n",
        "    def __str__(self):\n",
        "        return f\"Name:{self._name} Age:{self._birthYear} Salary:{self._salary} Gender:{self._gender}\"\n",
        "\n",
        "class Department():\n",
        "    def __init__(self, depName, employee):\n",
        "        self._depName=depName\n",
        "        self._employee=employee\n",
        "    def __str__(self):\n",
        "        return f\"Department Name: {self._depName}, Employee: {self._employee}\"\n",
        "    def countEmployee(self, year):\n",
        "      return len([emp for emp in self._employee if emp._birthYear == year])\n",
        "    def findOldestEmployee(self):\n",
        "      return\n"
      ],
      "metadata": {
        "colab": {
          "base_uri": "https://localhost:8080/",
          "height": 106
        },
        "id": "_HKA-vmJPwf8",
        "outputId": "e5049f7c-18a2-423f-d95c-5fea9e542753"
      },
      "execution_count": 79,
      "outputs": [
        {
          "output_type": "error",
          "ename": "SyntaxError",
          "evalue": "incomplete input (ipython-input-597375211.py, line 18)",
          "traceback": [
            "\u001b[0;36m  File \u001b[0;32m\"/tmp/ipython-input-597375211.py\"\u001b[0;36m, line \u001b[0;32m18\u001b[0m\n\u001b[0;31m    def findOldestEmployee(self):\u001b[0m\n\u001b[0m                                 ^\u001b[0m\n\u001b[0;31mSyntaxError\u001b[0m\u001b[0;31m:\u001b[0m incomplete input\n"
          ]
        }
      ]
    },
    {
      "cell_type": "code",
      "source": [
        "e1 = Employee(\"Nguyen Van A\", 20, 1000, \"Nam\")\n",
        "e2 = Employee(\"Nguyen Van B\", 21, 2000, \"Nu\")\n",
        "e3 = Employee(\"Nguyen Van C\", 22, 3000, \"Nam\")\n",
        "e4 = Employee(\"Nguyen Van D\", 20, 4000, \"Nu\")\n",
        "dep1 = Department(\"Khoa CNTT\", [e1, e2, e3, e4])\n",
        "print(dep1);\n",
        "print(\"Count Of Employee: \", dep1.countEmployee(20))\n",
        "#"
      ],
      "metadata": {
        "colab": {
          "base_uri": "https://localhost:8080/"
        },
        "id": "IYEqKwcVSawj",
        "outputId": "5134e655-6083-47d7-dcb8-761d6ff930a2"
      },
      "execution_count": 82,
      "outputs": [
        {
          "output_type": "stream",
          "name": "stdout",
          "text": [
            "Department Name: Khoa CNTT, Employee: [<__main__.Employee object at 0x797ecb43a540>, <__main__.Employee object at 0x797ecb890bc0>, <__main__.Employee object at 0x797ecb893bf0>, <__main__.Employee object at 0x797ecb8908f0>]\n",
            "Count Of Employee:  2\n"
          ]
        }
      ]
    }
  ]
}