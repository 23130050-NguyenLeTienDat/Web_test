{
  "nbformat": 4,
  "nbformat_minor": 0,
  "metadata": {
    "colab": {
      "provenance": [],
      "authorship_tag": "ABX9TyPgpq8UF2fuT0EadrEOykc5",
      "include_colab_link": true
    },
    "kernelspec": {
      "name": "python3",
      "display_name": "Python 3"
    },
    "language_info": {
      "name": "python"
    }
  },
  "cells": [
    {
      "cell_type": "markdown",
      "metadata": {
        "id": "view-in-github",
        "colab_type": "text"
      },
      "source": [
        "<a href=\"https://colab.research.google.com/github/23130050-NguyenLeTienDat/Web_test/blob/py/lab2_23130050_NguyenLeTienDat.ipynb\" target=\"_parent\"><img src=\"https://colab.research.google.com/assets/colab-badge.svg\" alt=\"Open In Colab\"/></a>"
      ]
    },
    {
      "cell_type": "markdown",
      "source": [
        "cau 1"
      ],
      "metadata": {
        "id": "ZsGnzPnBGkmS"
      }
    },
    {
      "cell_type": "code",
      "execution_count": null,
      "metadata": {
        "id": "B4yG7rUBBmKl"
      },
      "outputs": [],
      "source": [
        "def task1():\n",
        "  n = int(input(\"Nhap n \"))\n",
        "  L = []\n",
        "  for i in range(n):\n",
        "    x = int(input(\"nhap x \"))\n",
        "    L.append(x)\n",
        "  print(L)\n",
        "\n",
        "  print(\"So lon nhat la : \" + str(max(L)))\n",
        "  print(\"So nho nhat la: \" + str(min(L)))\n",
        "  print(\"Tong  cac so la \" + str(sum(L)))\n",
        "  print(\"Sort L: \", sorted(L))\n",
        "\n",
        "  countP = 0;\n",
        "  countN = 0;\n",
        "  for i in range(n) :\n",
        "    if(L[i] > 0): countP +=1\n",
        "    else: countN +=1\n",
        "  print(\"So duong la: \" + str(countP))\n",
        "  print(\"So am la: \" + str(countN))\n",
        "\n",
        "\n"
      ]
    },
    {
      "cell_type": "code",
      "source": [
        "task1()"
      ],
      "metadata": {
        "colab": {
          "base_uri": "https://localhost:8080/"
        },
        "id": "pwGkzvEQCEtU",
        "outputId": "e990db52-f1cb-488f-f2f2-915e5ee123e7"
      },
      "execution_count": null,
      "outputs": [
        {
          "output_type": "stream",
          "name": "stdout",
          "text": [
            "Nhap n 3\n",
            "nhap x -1\n",
            "nhap x 2\n",
            "nhap x 1\n",
            "[-1, 2, 1]\n",
            "So lon nhat la : 2\n",
            "So nho nhat la: -1\n",
            "Tong  cac so la 2\n",
            "Sort L:  [-1, 1, 2]\n",
            "So duong la: 2\n",
            "So am la: 1\n"
          ]
        }
      ]
    },
    {
      "cell_type": "markdown",
      "source": [
        "cau 2"
      ],
      "metadata": {
        "id": "GqHGHRZkGn6y"
      }
    },
    {
      "cell_type": "code",
      "source": [
        "def task2():\n",
        "  st = str(input(\"nhap vao 1 chuoi: \"))\n",
        "  print(\"so ky tu trong chuoi: \" + str(len(st)))\n",
        "  count = 0;\n",
        "  charspecil = str(input(\"nhap ky tu can dem: \"))\n",
        "  for char in st :\n",
        "    if(char == charspecil):\n",
        "      count +=1\n",
        "  print(\"so ky tu dac biet la: \" + str(count))\n",
        "  popularchar = \"\"\n",
        "  maxcount = 0;\n",
        "  for char in st:\n",
        "    c = 0\n",
        "    for char2 in st:\n",
        "      if(char == char2):\n",
        "        c +=1\n",
        "        if(c> maxcount):\n",
        "          popularchar = char\n",
        "          maxcount = c\n",
        "  print(\"ky tu xuat hien nhieu nhat la: \" + popularchar)\n"
      ],
      "metadata": {
        "id": "pu79O-T5Gqci"
      },
      "execution_count": null,
      "outputs": []
    },
    {
      "cell_type": "code",
      "source": [
        "task2()"
      ],
      "metadata": {
        "colab": {
          "base_uri": "https://localhost:8080/"
        },
        "id": "FcUVgXSlHA4L",
        "outputId": "612cf8bd-080c-4b01-e952-9fea3463f4d4"
      },
      "execution_count": null,
      "outputs": [
        {
          "output_type": "stream",
          "name": "stdout",
          "text": [
            "nhap vao 1 chuoi: nguyen le tien dat\n",
            "so ky tu trong chuoi: 18\n",
            "nhap ky tu can dem: n\n",
            "so ky tu dac biet la: 3\n",
            "ky tu xuat hien nhieu nhat la: n\n"
          ]
        }
      ]
    },
    {
      "cell_type": "markdown",
      "source": [
        "cau 3"
      ],
      "metadata": {
        "id": "ebHTOqMrKWhR"
      }
    },
    {
      "cell_type": "code",
      "source": [
        "def task3():\n",
        "  n = int(input(\"Nhap n  \"))\n",
        "  L = []\n",
        "  for i in range(n):\n",
        "    x = int(input(\"nhap x \"))\n",
        "    L.append(x)\n",
        "  print(L)\n",
        "  ascend = all(L[j] <= L[j+1] for j in range(i))\n",
        "  descend = all(L[j] >= L[j+1] for j in range(i))\n",
        "  # ascend = True\n",
        "  # descend = True\n",
        "  # for i in range(N-1):\n",
        "  # if(L[i] > L[i+1]):\n",
        "  #   ascend = False\n",
        "  # if(L[i] < L[i+1]):\n",
        "  #   descend = False\n",
        "\n",
        "  print(\"Day la day tang: \" + str(ascend))\n",
        "  print(\"Day la day giam: \" + str(descend))"
      ],
      "metadata": {
        "id": "Qr2SU6yTMEoZ"
      },
      "execution_count": null,
      "outputs": []
    },
    {
      "cell_type": "code",
      "source": [
        "task3()"
      ],
      "metadata": {
        "colab": {
          "base_uri": "https://localhost:8080/"
        },
        "id": "BOzMih4aNWXQ",
        "outputId": "6740a083-5708-48ea-e447-8eeae41b596f"
      },
      "execution_count": null,
      "outputs": [
        {
          "output_type": "stream",
          "name": "stdout",
          "text": [
            "Nhap n  3\n",
            "nhap x 1\n",
            "nhap x 6\n",
            "nhap x 9\n",
            "[1, 6, 9]\n",
            "Day la day tang: True\n",
            "Day la day giam: False\n"
          ]
        }
      ]
    },
    {
      "cell_type": "markdown",
      "source": [
        "cau 4"
      ],
      "metadata": {
        "id": "t3S9BnZeP3V3"
      }
    },
    {
      "cell_type": "code",
      "source": [
        "def task4():\n",
        "  n = int(input(\"Nhap a  \"))\n",
        "  L = []\n",
        "  for i in range(n):\n",
        "    x = int(input(\"nhap x: \"))\n",
        "    L.append(x)\n",
        "  print(L)\n",
        "  neighbour = []\n",
        "  for i in range(n):\n",
        "    if(L[i] == -1 ):\n",
        "      #left\n",
        "      if(i>0 and L[i -1] != -1):\n",
        "        neighbour.append(L[i-1])\n",
        "      #right\n",
        "      if(i<n-1 and L[i+1] != -1):\n",
        "        neighbour.append(L[i+1])\n",
        "        L[i] = min(neighbour)\n",
        "  print(\"chuoi moi la: \" + str(L))"
      ],
      "metadata": {
        "id": "eEh4jqGeP5dH"
      },
      "execution_count": null,
      "outputs": []
    },
    {
      "cell_type": "code",
      "source": [
        "task4()"
      ],
      "metadata": {
        "colab": {
          "base_uri": "https://localhost:8080/"
        },
        "id": "00mwS-eGTrrN",
        "outputId": "0b959f14-dd86-4d5f-b10d-7458dd3c0e63"
      },
      "execution_count": null,
      "outputs": [
        {
          "output_type": "stream",
          "name": "stdout",
          "text": [
            "Nhap a  4\n",
            "nhap x: 4\n",
            "nhap x: -1\n",
            "nhap x: 2\n",
            "nhap x: 3\n",
            "[4, -1, 2, 3]\n",
            "chuoi moi la: [4, 2, 2, 3]\n"
          ]
        }
      ]
    }
  ]
}