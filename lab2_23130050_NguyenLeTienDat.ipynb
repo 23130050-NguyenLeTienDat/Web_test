{
  "nbformat": 4,
  "nbformat_minor": 0,
  "metadata": {
    "colab": {
      "provenance": [],
      "authorship_tag": "ABX9TyNQ8FSNluMGhbRmo48lf+if",
      "include_colab_link": true
    },
    "kernelspec": {
      "name": "python3",
      "display_name": "Python 3"
    },
    "language_info": {
      "name": "python"
    }
  },
  "cells": [
    {
      "cell_type": "markdown",
      "metadata": {
        "id": "view-in-github",
        "colab_type": "text"
      },
      "source": [
        "<a href=\"https://colab.research.google.com/github/23130050-NguyenLeTienDat/Web_test/blob/py/lab2_23130050_NguyenLeTienDat.ipynb\" target=\"_parent\"><img src=\"https://colab.research.google.com/assets/colab-badge.svg\" alt=\"Open In Colab\"/></a>"
      ]
    },
    {
      "cell_type": "markdown",
      "source": [
        "cau 1"
      ],
      "metadata": {
        "id": "ZsGnzPnBGkmS"
      }
    },
    {
      "cell_type": "code",
      "execution_count": null,
      "metadata": {
        "id": "B4yG7rUBBmKl"
      },
      "outputs": [],
      "source": [
        "def task1():\n",
        "  n = int(input(\"Nhap n \"))\n",
        "  L = []\n",
        "  for i in range(n):\n",
        "    x = int(input(\"nhap x \"))\n",
        "    L.append(x)\n",
        "  print(L)\n",
        "\n",
        "  print(\"So lon nhat la : \" + str(max(L)))\n",
        "  print(\"So nho nhat la: \" + str(min(L)))\n",
        "  print(\"Tong  cac so la \" + str(sum(L)))\n",
        "  print(\"Sort L: \", sorted(L))\n",
        "\n",
        "  countP = 0;\n",
        "  countN = 0;\n",
        "  for i in range(n) :\n",
        "    if(L[i] > 0): countP +=1\n",
        "    else: countN +=1\n",
        "  print(\"So duong la: \" + str(countP))\n",
        "  print(\"So am la: \" + str(countN))\n",
        "\n",
        "\n"
      ]
    },
    {
      "cell_type": "code",
      "source": [
        "task1()"
      ],
      "metadata": {
        "colab": {
          "base_uri": "https://localhost:8080/"
        },
        "id": "pwGkzvEQCEtU",
        "outputId": "e990db52-f1cb-488f-f2f2-915e5ee123e7"
      },
      "execution_count": null,
      "outputs": [
        {
          "output_type": "stream",
          "name": "stdout",
          "text": [
            "Nhap n 3\n",
            "nhap x -1\n",
            "nhap x 2\n",
            "nhap x 1\n",
            "[-1, 2, 1]\n",
            "So lon nhat la : 2\n",
            "So nho nhat la: -1\n",
            "Tong  cac so la 2\n",
            "Sort L:  [-1, 1, 2]\n",
            "So duong la: 2\n",
            "So am la: 1\n"
          ]
        }
      ]
    },
    {
      "cell_type": "markdown",
      "source": [
        "cau 2"
      ],
      "metadata": {
        "id": "GqHGHRZkGn6y"
      }
    },
    {
      "cell_type": "code",
      "source": [
        "def task2():\n",
        "  st = str(input(\"nhap vao 1 chuoi: \"))\n",
        "  print(\"so ky tu trong chuoi: \" + str(len(st)))\n",
        "  count = 0;\n",
        "  charspecil = str(input(\"nhap ky tu can dem: \"))\n",
        "  for char in st :\n",
        "    if(char == charspecil):\n",
        "      count +=1\n",
        "  print(\"so ky tu dac biet la: \" + str(count))\n",
        "  token_counts = {}\n",
        "  for char in st:\n",
        "    token_counts[char] = token_counts.get(char, 0) + 1\n",
        "  print(\"So ky tu khac nhau la: \", len(token_counts))\n",
        "  print(\"\\nXap xep so luong cac ki tu):\")\n",
        "  for token in sorted(token_counts.keys()):\n",
        "    print(f\"{token}: {token_counts[token]}\")\n",
        "  popularchar = \"\"\n",
        "  maxcount = 0;\n",
        "  for char in st:\n",
        "    c = 0\n",
        "    for char2 in st:\n",
        "      if(char == char2):\n",
        "        c +=1\n",
        "        if(c> maxcount):\n",
        "          popularchar = char\n",
        "          maxcount = c\n",
        "  print(\"ky tu xuat hien nhieu nhat la: \" + popularchar)\n"
      ],
      "metadata": {
        "id": "pu79O-T5Gqci"
      },
      "execution_count": 11,
      "outputs": []
    },
    {
      "cell_type": "code",
      "source": [
        "task2()"
      ],
      "metadata": {
        "colab": {
          "base_uri": "https://localhost:8080/"
        },
        "id": "FcUVgXSlHA4L",
        "outputId": "c8b8dd40-ed6d-4719-bc1d-c2a552c9321a"
      },
      "execution_count": 12,
      "outputs": [
        {
          "output_type": "stream",
          "name": "stdout",
          "text": [
            "nhap vao 1 chuoi: nguyen le tien dat\n",
            "so ky tu trong chuoi: 18\n",
            "nhap ky tu can dem: a\n",
            "so ky tu dac biet la: 1\n",
            "So ky tu khac nhau la:  11\n",
            "\n",
            "Xap xep so luong cac ki tu):\n",
            " : 3\n",
            "a: 1\n",
            "d: 1\n",
            "e: 3\n",
            "g: 1\n",
            "i: 1\n",
            "l: 1\n",
            "n: 3\n",
            "t: 2\n",
            "u: 1\n",
            "y: 1\n",
            "ky tu xuat hien nhieu nhat la: n\n"
          ]
        }
      ]
    },
    {
      "cell_type": "markdown",
      "source": [
        "cau 3"
      ],
      "metadata": {
        "id": "ebHTOqMrKWhR"
      }
    },
    {
      "cell_type": "code",
      "source": [
        "def task3():\n",
        "  n = int(input(\"Nhap n  \"))\n",
        "  L = []\n",
        "  for i in range(n):\n",
        "    x = int(input(\"nhap x \"))\n",
        "    L.append(x)\n",
        "  print(L)\n",
        "  ascend = all(L[j] <= L[j+1] for j in range(i))\n",
        "  descend = all(L[j] >= L[j+1] for j in range(i))\n",
        "  # ascend = True\n",
        "  # descend = True\n",
        "  # for i in range(N-1):\n",
        "  # if(L[i] > L[i+1]):\n",
        "  #   ascend = False\n",
        "  # if(L[i] < L[i+1]):\n",
        "  #   descend = False\n",
        "\n",
        "  print(\"Day la day tang: \" + str(ascend))\n",
        "  print(\"Day la day giam: \" + str(descend))"
      ],
      "metadata": {
        "id": "Qr2SU6yTMEoZ"
      },
      "execution_count": null,
      "outputs": []
    },
    {
      "cell_type": "code",
      "source": [
        "task3()"
      ],
      "metadata": {
        "colab": {
          "base_uri": "https://localhost:8080/"
        },
        "id": "BOzMih4aNWXQ",
        "outputId": "6740a083-5708-48ea-e447-8eeae41b596f"
      },
      "execution_count": null,
      "outputs": [
        {
          "output_type": "stream",
          "name": "stdout",
          "text": [
            "Nhap n  3\n",
            "nhap x 1\n",
            "nhap x 6\n",
            "nhap x 9\n",
            "[1, 6, 9]\n",
            "Day la day tang: True\n",
            "Day la day giam: False\n"
          ]
        }
      ]
    },
    {
      "cell_type": "markdown",
      "source": [
        "cau 4"
      ],
      "metadata": {
        "id": "t3S9BnZeP3V3"
      }
    },
    {
      "cell_type": "code",
      "source": [
        "def task4(L):\n",
        "  neighbor = []\n",
        "  for i in range(len(L)):\n",
        "    if(L[i] == -1 ):\n",
        "      #left\n",
        "      if(i>0 and L[i -1] != -1):\n",
        "        neighbor.append(L[i-1])\n",
        "      #right\n",
        "      if(i<len(L)-1 and L[i+1] != -1):\n",
        "        neighbor.append(L[i+1])\n",
        "        L[i] = min(neighbor)\n",
        "  print(\"chuoi moi la: \" + str(L))"
      ],
      "metadata": {
        "id": "eEh4jqGeP5dH"
      },
      "execution_count": 49,
      "outputs": []
    },
    {
      "cell_type": "code",
      "source": [
        "task4([1,2,3,-1,5,1])"
      ],
      "metadata": {
        "colab": {
          "base_uri": "https://localhost:8080/"
        },
        "id": "00mwS-eGTrrN",
        "outputId": "5362a716-ec9b-401e-b094-07716f984f00"
      },
      "execution_count": 50,
      "outputs": [
        {
          "output_type": "stream",
          "name": "stdout",
          "text": [
            "chuoi moi la: [1, 2, 3, 3, 5, 1]\n"
          ]
        }
      ]
    },
    {
      "cell_type": "markdown",
      "source": [
        "cau 5"
      ],
      "metadata": {
        "id": "x09cXgy5D6Rh"
      }
    },
    {
      "cell_type": "code",
      "source": [
        "def task5(L, method):\n",
        "    import statistics  # để dùng mean và median\n",
        "\n",
        "    result = L.copy()  # sao chép danh sách gốc\n",
        "    valid_values = [x for x in L if x != -1]  # lọc giá trị hợp lệ\n",
        "\n",
        "    if not valid_values:\n",
        "        print(\"Không có giá trị hợp lệ!\")\n",
        "        return result\n",
        "\n",
        "    # --- Phương pháp mean ---\n",
        "    if method == \"mean\":\n",
        "        mean_val = statistics.mean(valid_values)\n",
        "        for i in range(len(result)):\n",
        "            if result[i] == -1:\n",
        "                result[i] = round(mean_val)\n",
        "        return result\n",
        "\n",
        "    # --- Phương pháp median ---\n",
        "    elif method == \"median\":\n",
        "        median_val = statistics.median(valid_values)\n",
        "        for i in range(len(result)):\n",
        "            if result[i] == -1:\n",
        "                result[i] = round(median_val)\n",
        "        return result\n",
        "\n",
        "    # --- Phương pháp NN (nearest neighbor) ---\n",
        "    elif method == \"nn\":\n",
        "        n = len(result)\n",
        "        neighbors = []\n",
        "        for i in range(n):\n",
        "            if result[i] == -1:\n",
        "                #left\n",
        "                if(i>0 and result[i -1] != -1):\n",
        "                   neighbors.append(result[i-1])\n",
        "                #right\n",
        "                if(i<n-1 and result[i+1] != -1):\n",
        "                  neighbors.append(result[i+1])\n",
        "                  result[i] = min(neighbors)\n",
        "        return result\n",
        "    else:\n",
        "        print(\"Phương thức không hợp lệ!\")\n",
        "        return result\n"
      ],
      "metadata": {
        "id": "iXNbgUX1JZsg"
      },
      "execution_count": 43,
      "outputs": []
    },
    {
      "cell_type": "code",
      "source": [
        "task5([10,11,12,-1,14,16,17,19,20], \"mean\")"
      ],
      "metadata": {
        "id": "J10jIWwAJF8A",
        "outputId": "ac19387b-4d4c-45f4-be64-e8b8f053cc46",
        "colab": {
          "base_uri": "https://localhost:8080/"
        }
      },
      "execution_count": 32,
      "outputs": [
        {
          "output_type": "execute_result",
          "data": {
            "text/plain": [
              "[10, 11, 12, 15, 14, 16, 17, 19, 20]"
            ]
          },
          "metadata": {},
          "execution_count": 32
        }
      ]
    },
    {
      "cell_type": "code",
      "source": [
        "task5([10,11,12,-1,14,16,17,19,20], \"median\")"
      ],
      "metadata": {
        "id": "AIZ-wEe4KJJo",
        "outputId": "12ebe075-af22-4f0b-eb00-44d2899ae262",
        "colab": {
          "base_uri": "https://localhost:8080/"
        }
      },
      "execution_count": 33,
      "outputs": [
        {
          "output_type": "execute_result",
          "data": {
            "text/plain": [
              "[10, 11, 12, 15, 14, 16, 17, 19, 20]"
            ]
          },
          "metadata": {},
          "execution_count": 33
        }
      ]
    },
    {
      "cell_type": "code",
      "source": [
        "task5([10,11,12,-1,14,16,17,19,20], \"nn\")"
      ],
      "metadata": {
        "id": "A6XXMA2lKJSw",
        "outputId": "b1957df8-0a30-404e-abfb-84ffe14b665a",
        "colab": {
          "base_uri": "https://localhost:8080/"
        }
      },
      "execution_count": 44,
      "outputs": [
        {
          "output_type": "execute_result",
          "data": {
            "text/plain": [
              "[10, 11, 12, 12, 14, 16, 17, 19, 20]"
            ]
          },
          "metadata": {},
          "execution_count": 44
        }
      ]
    },
    {
      "cell_type": "markdown",
      "source": [
        "cau 6"
      ],
      "metadata": {
        "id": "M7ar5glnLahw"
      }
    },
    {
      "cell_type": "code",
      "source": [],
      "metadata": {
        "id": "Z2Geb6LoLbjw"
      },
      "execution_count": null,
      "outputs": []
    }
  ]
}