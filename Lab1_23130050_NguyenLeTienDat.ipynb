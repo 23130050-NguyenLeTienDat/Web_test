{
  "nbformat": 4,
  "nbformat_minor": 0,
  "metadata": {
    "colab": {
      "provenance": [],
      "toc_visible": true,
      "authorship_tag": "ABX9TyOxybz6TPbKWoaR8RzSEhZW",
      "include_colab_link": true
    },
    "kernelspec": {
      "name": "python3",
      "display_name": "Python 3"
    },
    "language_info": {
      "name": "python"
    }
  },
  "cells": [
    {
      "cell_type": "markdown",
      "metadata": {
        "id": "view-in-github",
        "colab_type": "text"
      },
      "source": [
        "<a href=\"https://colab.research.google.com/github/23130050-NguyenLeTienDat/Web_test/blob/py/Lab1_23130050_NguyenLeTienDat.ipynb\" target=\"_parent\"><img src=\"https://colab.research.google.com/assets/colab-badge.svg\" alt=\"Open In Colab\"/></a>"
      ]
    },
    {
      "cell_type": "markdown",
      "source": [
        "# Py_Tuan1\n"
      ],
      "metadata": {
        "id": "fPTrRrZq8mHZ"
      }
    },
    {
      "cell_type": "markdown",
      "source": [
        "bai 1\n"
      ],
      "metadata": {
        "id": "zWw0Y-UcHeZh"
      }
    },
    {
      "cell_type": "code",
      "source": [
        "def check_Triangle(a,b,c):\n",
        "  if(a+b<=c) or (a+c<=b) or (b+c<=a):\n",
        "    print(\"khong phai tam giac\")\n",
        "  else:\n",
        "    if(a==b) and (b==c):\n",
        "      print(\"la tam giac deu\")\n",
        "    elif(a==b) or (b==c) or (a==c):\n",
        "      print(\"la tam giac can\")\n",
        "    else :\n",
        "      print(\"la tam giac thuong\")\n",
        "\n"
      ],
      "metadata": {
        "id": "cS2Wr6Dx6rgZ"
      },
      "execution_count": null,
      "outputs": []
    },
    {
      "cell_type": "code",
      "source": [
        "check_Triangle(2,2,3)\n"
      ],
      "metadata": {
        "colab": {
          "base_uri": "https://localhost:8080/"
        },
        "id": "IGnXpV1t-D3Z",
        "outputId": "bc2a6dfe-daf6-4bed-82e7-b7c59346b349"
      },
      "execution_count": null,
      "outputs": [
        {
          "output_type": "stream",
          "name": "stdout",
          "text": [
            "la tam giac can\n"
          ]
        }
      ]
    },
    {
      "cell_type": "markdown",
      "source": [
        "bai 2"
      ],
      "metadata": {
        "id": "zeyF7XQxHheh"
      }
    },
    {
      "cell_type": "code",
      "source": [
        "def check_Point(x,y,w,h):\n",
        "  x1 = int(input(\"nhap x1: \"))\n",
        "  y1 = int(input(\"nhap y1: \"))\n",
        "  if(w<=0) or (h<=0):\n",
        "    print(\"khong phai hinh chu nhat\")\n",
        "  else :\n",
        "    if(x <= x+x1 <= x+w ) and (y <=y+y1 <= y+h):\n",
        "      print(x1,y1,\"thuoc hinh chu nhat\")\n",
        "    else:\n",
        "      print(x1,y1,\"khong thuoc hinh chu nhat\")\n",
        "\n",
        "\n"
      ],
      "metadata": {
        "id": "yZ5fRrPSAO_5"
      },
      "execution_count": null,
      "outputs": []
    },
    {
      "cell_type": "code",
      "source": [
        "check_Point(4,4,3,4)\n"
      ],
      "metadata": {
        "colab": {
          "base_uri": "https://localhost:8080/"
        },
        "id": "re_1Jp3uDvsh",
        "outputId": "7580f382-1376-419c-bd3f-2c35a6093819"
      },
      "execution_count": null,
      "outputs": [
        {
          "output_type": "stream",
          "name": "stdout",
          "text": [
            "nhap x1: 1\n",
            "nhap y1: 1\n",
            "khong phai hinh chu nhat\n"
          ]
        }
      ]
    },
    {
      "cell_type": "markdown",
      "source": [
        "bai 3"
      ],
      "metadata": {
        "id": "__azH_RLHmxZ"
      }
    },
    {
      "cell_type": "code",
      "source": [
        "def findM(n):\n",
        "  if n<=1:\n",
        "    return 0\n",
        "  m=0\n",
        "  sum =0\n",
        "  while(sum+m+1 < n):\n",
        "    m +=1\n",
        "    sum +=m\n",
        "  return m\n"
      ],
      "metadata": {
        "id": "M0YJCWaPEzQB"
      },
      "execution_count": null,
      "outputs": []
    },
    {
      "cell_type": "code",
      "source": [
        "findM(10)"
      ],
      "metadata": {
        "colab": {
          "base_uri": "https://localhost:8080/"
        },
        "id": "WaK1YaPXG6t5",
        "outputId": "4defe229-6953-4101-9f0c-af09a0e6d359"
      },
      "execution_count": null,
      "outputs": [
        {
          "output_type": "execute_result",
          "data": {
            "text/plain": [
              "3"
            ]
          },
          "metadata": {},
          "execution_count": 33
        }
      ]
    },
    {
      "cell_type": "markdown",
      "source": [
        "bai 4"
      ],
      "metadata": {
        "id": "mDmo4cgEHqcB"
      }
    },
    {
      "cell_type": "code",
      "source": [
        "def fibonanci(num):\n",
        "  if num <1  :\n",
        "    return 0\n",
        "  elif num ==1:\n",
        "    return 1\n",
        "  else:\n",
        "    return fibonanci(num-1)+(fibonanci(num-2))\n"
      ],
      "metadata": {
        "id": "ye7mCrvaHuzR"
      },
      "execution_count": null,
      "outputs": []
    },
    {
      "cell_type": "code",
      "source": [
        "fibonanci(8)"
      ],
      "metadata": {
        "colab": {
          "base_uri": "https://localhost:8080/"
        },
        "id": "NBXpPoYyIa5K",
        "outputId": "ec8b95f2-b9f3-4852-8c37-9ad0e94fff5d"
      },
      "execution_count": null,
      "outputs": [
        {
          "output_type": "execute_result",
          "data": {
            "text/plain": [
              "21"
            ]
          },
          "metadata": {},
          "execution_count": 39
        }
      ]
    },
    {
      "cell_type": "markdown",
      "source": [
        "bai 5"
      ],
      "metadata": {
        "id": "1Dco4596ItN5"
      }
    },
    {
      "cell_type": "code",
      "source": [
        "def taxi_fare(d,t):\n",
        "  price = 0\n",
        "  if(d ==1 ):\n",
        "    price = 10000\n",
        "  elif(d<=10):\n",
        "    price = 10000 + (d-1)*5000\n",
        "  else :\n",
        "    price = 10000+ + 9*5000+ (d-10)*2000\n",
        "  price += t*1000\n",
        "  return price\n"
      ],
      "metadata": {
        "id": "9B5EZKBZIvIa"
      },
      "execution_count": null,
      "outputs": []
    },
    {
      "cell_type": "code",
      "source": [
        "taxi_fare(11,5)"
      ],
      "metadata": {
        "colab": {
          "base_uri": "https://localhost:8080/"
        },
        "id": "ESTNGVYKMLKS",
        "outputId": "e335c18a-db58-45ee-a563-4cc25d494fe9"
      },
      "execution_count": null,
      "outputs": [
        {
          "output_type": "execute_result",
          "data": {
            "text/plain": [
              "62000"
            ]
          },
          "metadata": {},
          "execution_count": 44
        }
      ]
    },
    {
      "cell_type": "markdown",
      "source": [
        "bai 6"
      ],
      "metadata": {
        "id": "FUT1EO26Mjjy"
      }
    },
    {
      "cell_type": "code",
      "source": [
        "def bai6_1(n):\n",
        "  if (n <= 0) :\n",
        "   return -1;\n",
        "  if(n==1):\n",
        "    return 1;\n",
        "  if(n%2 != 0):\n",
        "    term = n;\n",
        "  else :\n",
        "   term = -n;\n",
        "  return bai6_1(n-1)+ term;\n"
      ],
      "metadata": {
        "id": "xkKH9az1MleP"
      },
      "execution_count": 20,
      "outputs": []
    },
    {
      "cell_type": "code",
      "source": [
        "print(bai6_1(5));"
      ],
      "metadata": {
        "id": "dHuSCkChMvxq",
        "colab": {
          "base_uri": "https://localhost:8080/"
        },
        "outputId": "2649b970-63e4-4846-eece-9fef6a00a477"
      },
      "execution_count": 21,
      "outputs": [
        {
          "output_type": "stream",
          "name": "stdout",
          "text": [
            "3\n"
          ]
        }
      ]
    },
    {
      "cell_type": "code",
      "source": [
        "def bai6_2(n):\n",
        "  if(n<=0): return -1;\n",
        "  if(n==1): return 1;\n",
        "  def factorial(k):\n",
        "    if(k==0) or (k==1): return 1;\n",
        "    return k*factorial(k-1);\n",
        "  return bai6_2(n-1) + factorial(n);"
      ],
      "metadata": {
        "id": "GLaA1_swAjTG"
      },
      "execution_count": 22,
      "outputs": []
    },
    {
      "cell_type": "code",
      "source": [
        "print(bai6_2(2));"
      ],
      "metadata": {
        "id": "kezqGiMECFEF",
        "outputId": "6257163c-e67b-44c4-ce8d-5d1eaa4f8a9f",
        "colab": {
          "base_uri": "https://localhost:8080/"
        }
      },
      "execution_count": 24,
      "outputs": [
        {
          "output_type": "stream",
          "name": "stdout",
          "text": [
            "3\n"
          ]
        }
      ]
    },
    {
      "cell_type": "code",
      "source": [
        "def bai6_3(n):\n",
        "  if(n <=0): return -1;\n",
        "  if(n==1): return 1;\n",
        "  return bai6_3(n-1) + n*n;"
      ],
      "metadata": {
        "id": "naaW-D-OCTpM"
      },
      "execution_count": 25,
      "outputs": []
    },
    {
      "cell_type": "code",
      "source": [
        "print(bai6_3(3));"
      ],
      "metadata": {
        "id": "t3P-le16CsWl",
        "outputId": "08f7172f-7ccf-46ee-f42b-266f5bdb7d29",
        "colab": {
          "base_uri": "https://localhost:8080/"
        }
      },
      "execution_count": 28,
      "outputs": [
        {
          "output_type": "stream",
          "name": "stdout",
          "text": [
            "14\n"
          ]
        }
      ]
    },
    {
      "cell_type": "code",
      "source": [
        "def bai6_4(n):\n",
        "  if(n<0): print(\"n khong duoc nho hon 0\");\n",
        "  if(n==0): return 1;\n",
        "  def factorial(k, sum, l_term):\n",
        "    if(k>n): return sum;\n",
        "    next_term = l_term /(2*k) ;\n",
        "    return factorial(k+1, sum+next_term, next_term);\n",
        "  return factorial(1, 1.0, 1.0);\n",
        ""
      ],
      "metadata": {
        "id": "ca4MdbnvCx0M"
      },
      "execution_count": 36,
      "outputs": []
    },
    {
      "cell_type": "code",
      "source": [
        "print(bai6_4(2));"
      ],
      "metadata": {
        "id": "8ZrGNd4UCyB0",
        "outputId": "f57d85f3-7a62-48d5-ac42-f104b610189c",
        "colab": {
          "base_uri": "https://localhost:8080/"
        }
      },
      "execution_count": 38,
      "outputs": [
        {
          "output_type": "stream",
          "name": "stdout",
          "text": [
            "1.625\n"
          ]
        }
      ]
    },
    {
      "cell_type": "markdown",
      "source": [
        "bai 7"
      ],
      "metadata": {
        "id": "u3-bc9ifMwEq"
      }
    },
    {
      "cell_type": "code",
      "source": [
        "def draw_pyramid(m):\n",
        "  for i in range(1,m):\n",
        "   print(\" \"*(m-i),\"*\"*(2*i-1))"
      ],
      "metadata": {
        "id": "fgy2CmeVMx1K"
      },
      "execution_count": 17,
      "outputs": []
    },
    {
      "cell_type": "code",
      "source": [
        "draw_pyramid(5)"
      ],
      "metadata": {
        "colab": {
          "base_uri": "https://localhost:8080/"
        },
        "id": "rmGX4ZanM7Oa",
        "outputId": "6c32f1d0-4065-4088-a5ac-d2666fe741e3"
      },
      "execution_count": 12,
      "outputs": [
        {
          "output_type": "stream",
          "name": "stdout",
          "text": [
            "     *\n",
            "    ***\n",
            "   *****\n",
            "  *******\n"
          ]
        }
      ]
    },
    {
      "cell_type": "markdown",
      "source": [
        "bai 8"
      ],
      "metadata": {
        "id": "mk-MzqFAFIhz"
      }
    },
    {
      "cell_type": "code",
      "source": [
        "def check_password(str):\n",
        ""
      ],
      "metadata": {
        "id": "gdmi9DDVFODq"
      },
      "execution_count": null,
      "outputs": []
    }
  ]
}