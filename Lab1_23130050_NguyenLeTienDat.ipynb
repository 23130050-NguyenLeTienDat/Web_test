{
  "nbformat": 4,
  "nbformat_minor": 0,
  "metadata": {
    "colab": {
      "provenance": [],
      "toc_visible": true,
      "authorship_tag": "ABX9TyOH4/w3bfzbV1uxtZWjzRXs",
      "include_colab_link": true
    },
    "kernelspec": {
      "name": "python3",
      "display_name": "Python 3"
    },
    "language_info": {
      "name": "python"
    }
  },
  "cells": [
    {
      "cell_type": "markdown",
      "metadata": {
        "id": "view-in-github",
        "colab_type": "text"
      },
      "source": [
        "<a href=\"https://colab.research.google.com/github/23130050-NguyenLeTienDat/Web_test/blob/main/Lab1_23130050_NguyenLeTienDat.ipynb\" target=\"_parent\"><img src=\"https://colab.research.google.com/assets/colab-badge.svg\" alt=\"Open In Colab\"/></a>"
      ]
    },
    {
      "cell_type": "markdown",
      "source": [
        "# Task 1\n"
      ],
      "metadata": {
        "id": "fPTrRrZq8mHZ"
      }
    },
    {
      "cell_type": "markdown",
      "source": [
        "bai 1\n"
      ],
      "metadata": {
        "id": "zWw0Y-UcHeZh"
      }
    },
    {
      "cell_type": "code",
      "source": [
        "def check_Triangle(a,b,c):\n",
        "  if(a+b<=c) or (a+c<=b) or (b+c<=a):\n",
        "    print(\"khong phai tam giac\")\n",
        "  else:\n",
        "    if(a==b) and (b==c):\n",
        "      print(\"la tam giac deu\")\n",
        "    elif(a==b) or (b==c) or (a==c):\n",
        "      print(\"la tam giac can\")\n",
        "    else :\n",
        "      print(\"la tam giac thuong\")\n",
        "\n"
      ],
      "metadata": {
        "id": "cS2Wr6Dx6rgZ"
      },
      "execution_count": 17,
      "outputs": []
    },
    {
      "cell_type": "code",
      "source": [
        "check_Triangle(2,2,3)\n"
      ],
      "metadata": {
        "colab": {
          "base_uri": "https://localhost:8080/"
        },
        "id": "IGnXpV1t-D3Z",
        "outputId": "bc2a6dfe-daf6-4bed-82e7-b7c59346b349"
      },
      "execution_count": 21,
      "outputs": [
        {
          "output_type": "stream",
          "name": "stdout",
          "text": [
            "la tam giac can\n"
          ]
        }
      ]
    },
    {
      "cell_type": "markdown",
      "source": [
        "bai 2"
      ],
      "metadata": {
        "id": "zeyF7XQxHheh"
      }
    },
    {
      "cell_type": "code",
      "source": [
        "def check_Point(x,y,w,h):\n",
        "  x1 = int(input(\"nhap x1: \"))\n",
        "  y1 = int(input(\"nhap y1: \"))\n",
        "  if(w<=0) or (h<=0):\n",
        "    print(\"khong phai hinh chu nhat\")\n",
        "  else :\n",
        "    if(x <= x+x1 <= x+w ) and (y <=y+y1 <= y+h):\n",
        "      print(x1,y1,\"thuoc hinh chu nhat\")\n",
        "    else:\n",
        "      print(x1,y1,\"khong thuoc hinh chu nhat\")\n",
        "\n",
        "\n"
      ],
      "metadata": {
        "id": "yZ5fRrPSAO_5"
      },
      "execution_count": 25,
      "outputs": []
    },
    {
      "cell_type": "code",
      "source": [
        "check_Point(4,4,3,4)\n"
      ],
      "metadata": {
        "colab": {
          "base_uri": "https://localhost:8080/"
        },
        "id": "re_1Jp3uDvsh",
        "outputId": "7580f382-1376-419c-bd3f-2c35a6093819"
      },
      "execution_count": 28,
      "outputs": [
        {
          "output_type": "stream",
          "name": "stdout",
          "text": [
            "nhap x1: 1\n",
            "nhap y1: 1\n",
            "khong phai hinh chu nhat\n"
          ]
        }
      ]
    },
    {
      "cell_type": "markdown",
      "source": [
        "bai 3"
      ],
      "metadata": {
        "id": "__azH_RLHmxZ"
      }
    },
    {
      "cell_type": "code",
      "source": [
        "def findM(n):\n",
        "  if n<=1:\n",
        "    return 0\n",
        "  m=0\n",
        "  sum =0\n",
        "  while(sum+m+1 < n):\n",
        "    m +=1\n",
        "    sum +=m\n",
        "  return m\n"
      ],
      "metadata": {
        "id": "M0YJCWaPEzQB"
      },
      "execution_count": 32,
      "outputs": []
    },
    {
      "cell_type": "code",
      "source": [
        "findM(10)"
      ],
      "metadata": {
        "colab": {
          "base_uri": "https://localhost:8080/"
        },
        "id": "WaK1YaPXG6t5",
        "outputId": "4defe229-6953-4101-9f0c-af09a0e6d359"
      },
      "execution_count": 33,
      "outputs": [
        {
          "output_type": "execute_result",
          "data": {
            "text/plain": [
              "3"
            ]
          },
          "metadata": {},
          "execution_count": 33
        }
      ]
    },
    {
      "cell_type": "markdown",
      "source": [
        "bai 4"
      ],
      "metadata": {
        "id": "mDmo4cgEHqcB"
      }
    },
    {
      "cell_type": "code",
      "source": [
        "def fibonanci(num):\n",
        "  if num <1  :\n",
        "    return 0\n",
        "  elif num ==1:\n",
        "    return 1\n",
        "  else:\n",
        "    return fibonanci(num-1)+(fibonanci(num-2))\n",
        ""
      ],
      "metadata": {
        "id": "ye7mCrvaHuzR"
      },
      "execution_count": 34,
      "outputs": []
    },
    {
      "cell_type": "code",
      "source": [
        "fibonanci(8)"
      ],
      "metadata": {
        "colab": {
          "base_uri": "https://localhost:8080/"
        },
        "id": "NBXpPoYyIa5K",
        "outputId": "ec8b95f2-b9f3-4852-8c37-9ad0e94fff5d"
      },
      "execution_count": 39,
      "outputs": [
        {
          "output_type": "execute_result",
          "data": {
            "text/plain": [
              "21"
            ]
          },
          "metadata": {},
          "execution_count": 39
        }
      ]
    },
    {
      "cell_type": "markdown",
      "source": [
        "bai 5"
      ],
      "metadata": {
        "id": "1Dco4596ItN5"
      }
    },
    {
      "cell_type": "code",
      "source": [],
      "metadata": {
        "id": "9B5EZKBZIvIa"
      },
      "execution_count": null,
      "outputs": []
    }
  ]
}