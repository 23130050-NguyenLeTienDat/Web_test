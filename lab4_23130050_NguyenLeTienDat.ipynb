{
  "nbformat": 4,
  "nbformat_minor": 0,
  "metadata": {
    "colab": {
      "provenance": [],
      "authorship_tag": "ABX9TyNsA5GlV5RWh2qUkqShUxn0",
      "include_colab_link": true
    },
    "kernelspec": {
      "name": "python3",
      "display_name": "Python 3"
    },
    "language_info": {
      "name": "python"
    }
  },
  "cells": [
    {
      "cell_type": "markdown",
      "metadata": {
        "id": "view-in-github",
        "colab_type": "text"
      },
      "source": [
        "<a href=\"https://colab.research.google.com/github/23130050-NguyenLeTienDat/Web_test/blob/py/lab4_23130050_NguyenLeTienDat.ipynb\" target=\"_parent\"><img src=\"https://colab.research.google.com/assets/colab-badge.svg\" alt=\"Open In Colab\"/></a>"
      ]
    },
    {
      "cell_type": "markdown",
      "source": [
        "task 1"
      ],
      "metadata": {
        "id": "44SCXJZBCOJ9"
      }
    },
    {
      "cell_type": "code",
      "execution_count": 151,
      "metadata": {
        "id": "Q-T-zZ9EB_8p"
      },
      "outputs": [],
      "source": [
        "class MonHoc:\n",
        "  def __init__(self, maSo, ten , soTinChi, loai):\n",
        "    self.maSo = maSo\n",
        "    self.ten = ten\n",
        "    self.soTinChi = soTinChi\n",
        "    self.loai = loai\n",
        "  def __repr__(self) -> str:\n",
        "    return \"Ma so: \" + str(self.maSo) + \"\\tTen: \" + self.ten + \"\\tSo tin chi: \" + str(self.soTinChi) + \"\\tLoai: \" + self.loai + \"\\n\"\n",
        "  def __cungLoai__(self, loaiMuon):\n",
        "    return self.loai == loaiMuon\n",
        "  def _getLoai_(self):\n",
        "    return self.loai\n",
        "  def _getTen_(self):\n",
        "    return self.ten\n",
        "\n",
        "\n",
        "class GiangVien :\n",
        "  def __init__(self, hoTen, namSinh, dsMonHoc):\n",
        "    self.hoTen = hoTen\n",
        "    self.namSinh = namSinh\n",
        "    self.dsMonHoc = dsMonHoc\n",
        "  def __repr__(self) -> str:\n",
        "      return \"Ho ten: \" + self.hoTen + \"\\tNam sinh: \" + str(self.namSinh) + \"\\tSo mon hoc: \" + str(len(self.dsMonHoc)) + \"\\n\"\n",
        "  def _demSoMon_(self,loai):\n",
        "    return len([monHoc for monHoc in self.dsMonHoc if monHoc.__cungLoai__(loai)])\n",
        "  def _tongSoTinChiCuaGiangVien_(self):\n",
        "    return sum([monHoc.soTinChi for monHoc in self.dsMonHoc])\n",
        "  def _getDanhSachMonHoc_(self):\n",
        "    return self.dsMonHoc\n",
        "  def _cungTen_(self, tenGV):\n",
        "    return self.hoTen\n",
        "  def _coDayMonHocLoai_(self, loai):\n",
        "    return {mh in mh for self.dsMonHoc }\n",
        "\n",
        "class Khoa:\n",
        "  def __init__(self, ten, diaChi, dsGiangVien):\n",
        "    self.ten = ten\n",
        "    self.diaChi = diaChi\n",
        "    self.dsGiangVien = dsGiangVien\n",
        "  def __str__(self) -> str:\n",
        "    return \"Ten: \" + self.ten + \"\\tDia chi: \" + self.diaChi + \"\\tSo giang vien: \" + str(len(self.dsGiangVien)) + \"\\n\"\n",
        "  def _timGiangVienDayNhieuTinChiNhat_(self):\n",
        "    return max(self.dsGiangVien, key=lambda GiangVien: GiangVien._tongSoTinChiCuaGiangVien_())\n",
        "  def _thongKeMonTheoLoai_(self):\n",
        "    dsmh = {mh for gv in self.dsGiangVien for mh in gv._getDanhSachMonHoc_()}\n",
        "    return {loai: [mh for mh in dsmh if mh.__cungLoai__(loai)] for loai in set([mh._getLoai_() for mh in dsmh])}\n",
        "  def _timMonHoc_(self,tenGiangVien,loai):\n",
        "    dsGV = [gv for gv in self.dsGiangVien if gv._cungTen_(tenGiangVien) ]\n",
        "    return sorted({mh for gv in dsGV for mh in gv._getDanhSachMonHoc_() if mh.__cungLoai__(loai)}, key = lambda mh: mh._getTen_())"
      ]
    },
    {
      "cell_type": "code",
      "source": [
        "m1 = MonHoc(1231,\"LTNC\",4,\"LT\")\n",
        "m2 = MonHoc(1122,\"GTNM\",4,\"LT\")\n",
        "m3 = MonHoc(1133,\"TTNT\",3,\"LT\")\n",
        "m4 = MonHoc(1123,\"TTNT\",3,\"TH\")\n",
        "m5 = MonHoc(1144,\"Python\",4,\"LT\")\n",
        "g1 = GiangVien(\"Nguyen Le Tien Dat\", 2005,[m1,m2,m3,m4,m5])\n",
        "g2 = GiangVien(\"Nguyen Van A\", 2005,[m1,m2,m3,m5])\n",
        "g3 = GiangVien(\"Nguyen Van B\", 2005,[m1,m4,m2,m5])\n",
        "g4 = GiangVien(\"Nguyen Van C\", 2005,[m1,m2,m5])\n",
        "k1 = Khoa(\"CNTT\",\"Ha Noi\",[g1,g2,g3,g4])\n",
        "print(m1)\n",
        "print(g1._getDanhSachMonHoc_())\n",
        "print(\"Số môn học có loại aa \",g1._demSoMon_(\"aa\"))\n",
        "print(\"Tổng số tín chỉ của giảng viên \" , g1._tongSoTinChiCuaGiangVien_())\n",
        "print(\"Giảng viên dạy nhiều tín chỉ nhất: \" , k1._timGiangVienDayNhieuTinChiNhat_())\n",
        "print(\"Thống kê môn học theo loại: \", k1._thongKeMonTheoLoai_())\n",
        "print(\"Tìm môn học theo tên giảng viên và tên môn học: \",k1._timMonHoc_(\"Nguyen Le Tien Dat\",\"LT\"))"
      ],
      "metadata": {
        "colab": {
          "base_uri": "https://localhost:8080/"
        },
        "id": "jtahx9QXErRF",
        "outputId": "26d281b3-cc79-4a61-aaa6-f13483c82279"
      },
      "execution_count": 153,
      "outputs": [
        {
          "output_type": "stream",
          "name": "stdout",
          "text": [
            "Ma so: 1231\tTen: LTNC\tSo tin chi: 4\tLoai: LT\n",
            "\n",
            "[Ma so: 1231\tTen: LTNC\tSo tin chi: 4\tLoai: LT\n",
            ", Ma so: 1122\tTen: GTNM\tSo tin chi: 4\tLoai: LT\n",
            ", Ma so: 1133\tTen: TTNT\tSo tin chi: 3\tLoai: LT\n",
            ", Ma so: 1123\tTen: TTNT\tSo tin chi: 3\tLoai: TH\n",
            ", Ma so: 1144\tTen: Python\tSo tin chi: 4\tLoai: LT\n",
            "]\n",
            "Số môn học có loại aa  0\n",
            "Tổng số tín chỉ của giảng viên  18\n",
            "Giảng viên dạy nhiều tín chỉ nhất:  Ho ten: Nguyen Le Tien Dat\tNam sinh: 2005\tSo mon hoc: 5\n",
            "\n",
            "Thống kê môn học theo loại:  {'LT': [Ma so: 1144\tTen: Python\tSo tin chi: 4\tLoai: LT\n",
            ", Ma so: 1231\tTen: LTNC\tSo tin chi: 4\tLoai: LT\n",
            ", Ma so: 1133\tTen: TTNT\tSo tin chi: 3\tLoai: LT\n",
            ", Ma so: 1122\tTen: GTNM\tSo tin chi: 4\tLoai: LT\n",
            "], 'TH': [Ma so: 1123\tTen: TTNT\tSo tin chi: 3\tLoai: TH\n",
            "]}\n",
            "Tìm môn học theo tên giảng viên và tên môn học:  [Ma so: 1122\tTen: GTNM\tSo tin chi: 4\tLoai: LT\n",
            ", Ma so: 1231\tTen: LTNC\tSo tin chi: 4\tLoai: LT\n",
            ", Ma so: 1144\tTen: Python\tSo tin chi: 4\tLoai: LT\n",
            ", Ma so: 1133\tTen: TTNT\tSo tin chi: 3\tLoai: LT\n",
            "]\n"
          ]
        }
      ]
    }
  ]
}